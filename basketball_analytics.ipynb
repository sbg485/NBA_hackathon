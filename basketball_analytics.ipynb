{
 "cells": [
  {
   "cell_type": "code",
   "execution_count": 1,
   "metadata": {
    "collapsed": true
   },
   "outputs": [],
   "source": [
    "import pandas as pd"
   ]
  },
  {
   "cell_type": "code",
   "execution_count": 2,
   "metadata": {},
   "outputs": [],
   "source": [
    "#load data\n",
    "events_data = \"Event_Codes.txt\"\n",
    "lineups_data = \"Game_Lineup.txt\"\n",
    "plays_data = \"Play_by_Play.txt\"\n",
    "\n",
    "events = pd.read_table(events_data)\n",
    "lineups = pd.read_table(lineups_data)\n",
    "plays = pd.read_table(plays_data)"
   ]
  },
  {
   "cell_type": "code",
   "execution_count": 3,
   "metadata": {},
   "outputs": [
    {
     "data": {
      "text/html": [
       "<div>\n",
       "<style>\n",
       "    .dataframe thead tr:only-child th {\n",
       "        text-align: right;\n",
       "    }\n",
       "\n",
       "    .dataframe thead th {\n",
       "        text-align: left;\n",
       "    }\n",
       "\n",
       "    .dataframe tbody tr th {\n",
       "        vertical-align: top;\n",
       "    }\n",
       "</style>\n",
       "<table border=\"1\" class=\"dataframe\">\n",
       "  <thead>\n",
       "    <tr style=\"text-align: right;\">\n",
       "      <th></th>\n",
       "      <th>Event_Msg_Type</th>\n",
       "      <th>Action_Type</th>\n",
       "      <th>Event_Msg_Type_Description</th>\n",
       "      <th>Action_Type_Description</th>\n",
       "    </tr>\n",
       "  </thead>\n",
       "  <tbody>\n",
       "    <tr>\n",
       "      <th>0</th>\n",
       "      <td>1</td>\n",
       "      <td>0</td>\n",
       "      <td>Made Shot</td>\n",
       "      <td>No Shot</td>\n",
       "    </tr>\n",
       "    <tr>\n",
       "      <th>1</th>\n",
       "      <td>1</td>\n",
       "      <td>1</td>\n",
       "      <td>Made Shot</td>\n",
       "      <td>Jump Shot</td>\n",
       "    </tr>\n",
       "    <tr>\n",
       "      <th>2</th>\n",
       "      <td>1</td>\n",
       "      <td>2</td>\n",
       "      <td>Made Shot</td>\n",
       "      <td>Running Jump Shot</td>\n",
       "    </tr>\n",
       "    <tr>\n",
       "      <th>3</th>\n",
       "      <td>1</td>\n",
       "      <td>3</td>\n",
       "      <td>Made Shot</td>\n",
       "      <td>Hook Shot</td>\n",
       "    </tr>\n",
       "    <tr>\n",
       "      <th>4</th>\n",
       "      <td>1</td>\n",
       "      <td>4</td>\n",
       "      <td>Made Shot</td>\n",
       "      <td>Tip Shot</td>\n",
       "    </tr>\n",
       "  </tbody>\n",
       "</table>\n",
       "</div>"
      ],
      "text/plain": [
       "   Event_Msg_Type  Action_Type                Event_Msg_Type_Description  \\\n",
       "0               1            0  Made Shot                                  \n",
       "1               1            1  Made Shot                                  \n",
       "2               1            2  Made Shot                                  \n",
       "3               1            3  Made Shot                                  \n",
       "4               1            4  Made Shot                                  \n",
       "\n",
       "  Action_Type_Description  \n",
       "0                 No Shot  \n",
       "1               Jump Shot  \n",
       "2       Running Jump Shot  \n",
       "3               Hook Shot  \n",
       "4                Tip Shot  "
      ]
     },
     "execution_count": 3,
     "metadata": {},
     "output_type": "execute_result"
    }
   ],
   "source": [
    "events.head()"
   ]
  },
  {
   "cell_type": "code",
   "execution_count": 4,
   "metadata": {},
   "outputs": [
    {
     "data": {
      "text/html": [
       "<div>\n",
       "<style>\n",
       "    .dataframe thead tr:only-child th {\n",
       "        text-align: right;\n",
       "    }\n",
       "\n",
       "    .dataframe thead th {\n",
       "        text-align: left;\n",
       "    }\n",
       "\n",
       "    .dataframe tbody tr th {\n",
       "        vertical-align: top;\n",
       "    }\n",
       "</style>\n",
       "<table border=\"1\" class=\"dataframe\">\n",
       "  <thead>\n",
       "    <tr style=\"text-align: right;\">\n",
       "      <th></th>\n",
       "      <th>Game_id</th>\n",
       "      <th>Period</th>\n",
       "      <th>Person_id</th>\n",
       "      <th>Team_id</th>\n",
       "      <th>status</th>\n",
       "    </tr>\n",
       "  </thead>\n",
       "  <tbody>\n",
       "    <tr>\n",
       "      <th>0</th>\n",
       "      <td>006728e4c10e957011e1f24878e6054a</td>\n",
       "      <td>0</td>\n",
       "      <td>ae53f8ba6761b64a174051da817785bc</td>\n",
       "      <td>01be0ad4af7aeb1f6d2cc2b6b6d6d811</td>\n",
       "      <td>A</td>\n",
       "    </tr>\n",
       "    <tr>\n",
       "      <th>1</th>\n",
       "      <td>006728e4c10e957011e1f24878e6054a</td>\n",
       "      <td>0</td>\n",
       "      <td>44230324724c84f122ac62a5f0918314</td>\n",
       "      <td>45ba8fc87f55b1191c50c400dc7ed11c</td>\n",
       "      <td>A</td>\n",
       "    </tr>\n",
       "    <tr>\n",
       "      <th>2</th>\n",
       "      <td>006728e4c10e957011e1f24878e6054a</td>\n",
       "      <td>0</td>\n",
       "      <td>8d2127290c94bd41b82a2938734bc750</td>\n",
       "      <td>01be0ad4af7aeb1f6d2cc2b6b6d6d811</td>\n",
       "      <td>A</td>\n",
       "    </tr>\n",
       "    <tr>\n",
       "      <th>3</th>\n",
       "      <td>006728e4c10e957011e1f24878e6054a</td>\n",
       "      <td>0</td>\n",
       "      <td>48ec4e6c52f418d5ca4ef510ba473ea0</td>\n",
       "      <td>45ba8fc87f55b1191c50c400dc7ed11c</td>\n",
       "      <td>A</td>\n",
       "    </tr>\n",
       "    <tr>\n",
       "      <th>4</th>\n",
       "      <td>006728e4c10e957011e1f24878e6054a</td>\n",
       "      <td>0</td>\n",
       "      <td>e816ff284dc3f965b8f3d605a3b91bae</td>\n",
       "      <td>01be0ad4af7aeb1f6d2cc2b6b6d6d811</td>\n",
       "      <td>A</td>\n",
       "    </tr>\n",
       "  </tbody>\n",
       "</table>\n",
       "</div>"
      ],
      "text/plain": [
       "                            Game_id  Period                         Person_id  \\\n",
       "0  006728e4c10e957011e1f24878e6054a       0  ae53f8ba6761b64a174051da817785bc   \n",
       "1  006728e4c10e957011e1f24878e6054a       0  44230324724c84f122ac62a5f0918314   \n",
       "2  006728e4c10e957011e1f24878e6054a       0  8d2127290c94bd41b82a2938734bc750   \n",
       "3  006728e4c10e957011e1f24878e6054a       0  48ec4e6c52f418d5ca4ef510ba473ea0   \n",
       "4  006728e4c10e957011e1f24878e6054a       0  e816ff284dc3f965b8f3d605a3b91bae   \n",
       "\n",
       "                            Team_id status  \n",
       "0  01be0ad4af7aeb1f6d2cc2b6b6d6d811      A  \n",
       "1  45ba8fc87f55b1191c50c400dc7ed11c      A  \n",
       "2  01be0ad4af7aeb1f6d2cc2b6b6d6d811      A  \n",
       "3  45ba8fc87f55b1191c50c400dc7ed11c      A  \n",
       "4  01be0ad4af7aeb1f6d2cc2b6b6d6d811      A  "
      ]
     },
     "execution_count": 4,
     "metadata": {},
     "output_type": "execute_result"
    }
   ],
   "source": [
    "lineups.head()"
   ]
  },
  {
   "cell_type": "code",
   "execution_count": 5,
   "metadata": {},
   "outputs": [
    {
     "data": {
      "text/html": [
       "<div>\n",
       "<style>\n",
       "    .dataframe thead tr:only-child th {\n",
       "        text-align: right;\n",
       "    }\n",
       "\n",
       "    .dataframe thead th {\n",
       "        text-align: left;\n",
       "    }\n",
       "\n",
       "    .dataframe tbody tr th {\n",
       "        vertical-align: top;\n",
       "    }\n",
       "</style>\n",
       "<table border=\"1\" class=\"dataframe\">\n",
       "  <thead>\n",
       "    <tr style=\"text-align: right;\">\n",
       "      <th></th>\n",
       "      <th>Game_id</th>\n",
       "      <th>Event_Num</th>\n",
       "      <th>Event_Msg_Type</th>\n",
       "      <th>Period</th>\n",
       "      <th>WC_Time</th>\n",
       "      <th>PC_Time</th>\n",
       "      <th>Action_Type</th>\n",
       "      <th>Option1</th>\n",
       "      <th>Option2</th>\n",
       "      <th>Option3</th>\n",
       "      <th>Team_id</th>\n",
       "      <th>Person1</th>\n",
       "      <th>Person2</th>\n",
       "      <th>Person3</th>\n",
       "      <th>Team_id_type</th>\n",
       "      <th>Person1_type</th>\n",
       "      <th>Person2_type</th>\n",
       "      <th>Person3_type</th>\n",
       "    </tr>\n",
       "  </thead>\n",
       "  <tbody>\n",
       "    <tr>\n",
       "      <th>0</th>\n",
       "      <td>006728e4c10e957011e1f24878e6054a</td>\n",
       "      <td>2</td>\n",
       "      <td>12</td>\n",
       "      <td>1</td>\n",
       "      <td>546410</td>\n",
       "      <td>7200</td>\n",
       "      <td>0</td>\n",
       "      <td>0</td>\n",
       "      <td>0</td>\n",
       "      <td>0</td>\n",
       "      <td>1473d70e5646a26de3c52aa1abd85b1f</td>\n",
       "      <td>0370a0d090da0d0edc6319f120187e0e</td>\n",
       "      <td>0370a0d090da0d0edc6319f120187e0e</td>\n",
       "      <td>0370a0d090da0d0edc6319f120187e0e</td>\n",
       "      <td>0</td>\n",
       "      <td>0</td>\n",
       "      <td>0</td>\n",
       "      <td>0</td>\n",
       "    </tr>\n",
       "    <tr>\n",
       "      <th>1</th>\n",
       "      <td>006728e4c10e957011e1f24878e6054a</td>\n",
       "      <td>4</td>\n",
       "      <td>10</td>\n",
       "      <td>1</td>\n",
       "      <td>546420</td>\n",
       "      <td>7200</td>\n",
       "      <td>0</td>\n",
       "      <td>0</td>\n",
       "      <td>0</td>\n",
       "      <td>0</td>\n",
       "      <td>01be0ad4af7aeb1f6d2cc2b6b6d6d811</td>\n",
       "      <td>8d2127290c94bd41b82a2938734bc750</td>\n",
       "      <td>99104de2626f67c1fa2ce70504970c3f</td>\n",
       "      <td>766802a8fda500d7945950de7398c9c6</td>\n",
       "      <td>2</td>\n",
       "      <td>4</td>\n",
       "      <td>5</td>\n",
       "      <td>4</td>\n",
       "    </tr>\n",
       "    <tr>\n",
       "      <th>2</th>\n",
       "      <td>006728e4c10e957011e1f24878e6054a</td>\n",
       "      <td>7</td>\n",
       "      <td>1</td>\n",
       "      <td>1</td>\n",
       "      <td>546590</td>\n",
       "      <td>7020</td>\n",
       "      <td>79</td>\n",
       "      <td>2</td>\n",
       "      <td>0</td>\n",
       "      <td>0</td>\n",
       "      <td>01be0ad4af7aeb1f6d2cc2b6b6d6d811</td>\n",
       "      <td>42e0d7167f04a4ff958c6442da0e6851</td>\n",
       "      <td>0370a0d090da0d0edc6319f120187e0e</td>\n",
       "      <td>0370a0d090da0d0edc6319f120187e0e</td>\n",
       "      <td>2</td>\n",
       "      <td>4</td>\n",
       "      <td>0</td>\n",
       "      <td>0</td>\n",
       "    </tr>\n",
       "    <tr>\n",
       "      <th>3</th>\n",
       "      <td>006728e4c10e957011e1f24878e6054a</td>\n",
       "      <td>8</td>\n",
       "      <td>6</td>\n",
       "      <td>1</td>\n",
       "      <td>546620</td>\n",
       "      <td>7020</td>\n",
       "      <td>2</td>\n",
       "      <td>0</td>\n",
       "      <td>0</td>\n",
       "      <td>1</td>\n",
       "      <td>01be0ad4af7aeb1f6d2cc2b6b6d6d811</td>\n",
       "      <td>616281dee946056b071699476fdee9ec</td>\n",
       "      <td>42e0d7167f04a4ff958c6442da0e6851</td>\n",
       "      <td>0b1c631effab25d4af2d16fc123c3d31</td>\n",
       "      <td>2</td>\n",
       "      <td>5</td>\n",
       "      <td>4</td>\n",
       "      <td>1</td>\n",
       "    </tr>\n",
       "    <tr>\n",
       "      <th>4</th>\n",
       "      <td>006728e4c10e957011e1f24878e6054a</td>\n",
       "      <td>10</td>\n",
       "      <td>3</td>\n",
       "      <td>1</td>\n",
       "      <td>546810</td>\n",
       "      <td>7020</td>\n",
       "      <td>10</td>\n",
       "      <td>1</td>\n",
       "      <td>0</td>\n",
       "      <td>0</td>\n",
       "      <td>01be0ad4af7aeb1f6d2cc2b6b6d6d811</td>\n",
       "      <td>42e0d7167f04a4ff958c6442da0e6851</td>\n",
       "      <td>0370a0d090da0d0edc6319f120187e0e</td>\n",
       "      <td>0370a0d090da0d0edc6319f120187e0e</td>\n",
       "      <td>2</td>\n",
       "      <td>4</td>\n",
       "      <td>0</td>\n",
       "      <td>0</td>\n",
       "    </tr>\n",
       "  </tbody>\n",
       "</table>\n",
       "</div>"
      ],
      "text/plain": [
       "                            Game_id  Event_Num  Event_Msg_Type  Period  \\\n",
       "0  006728e4c10e957011e1f24878e6054a          2              12       1   \n",
       "1  006728e4c10e957011e1f24878e6054a          4              10       1   \n",
       "2  006728e4c10e957011e1f24878e6054a          7               1       1   \n",
       "3  006728e4c10e957011e1f24878e6054a          8               6       1   \n",
       "4  006728e4c10e957011e1f24878e6054a         10               3       1   \n",
       "\n",
       "   WC_Time  PC_Time  Action_Type  Option1  Option2  Option3  \\\n",
       "0   546410     7200            0        0        0        0   \n",
       "1   546420     7200            0        0        0        0   \n",
       "2   546590     7020           79        2        0        0   \n",
       "3   546620     7020            2        0        0        1   \n",
       "4   546810     7020           10        1        0        0   \n",
       "\n",
       "                            Team_id                           Person1  \\\n",
       "0  1473d70e5646a26de3c52aa1abd85b1f  0370a0d090da0d0edc6319f120187e0e   \n",
       "1  01be0ad4af7aeb1f6d2cc2b6b6d6d811  8d2127290c94bd41b82a2938734bc750   \n",
       "2  01be0ad4af7aeb1f6d2cc2b6b6d6d811  42e0d7167f04a4ff958c6442da0e6851   \n",
       "3  01be0ad4af7aeb1f6d2cc2b6b6d6d811  616281dee946056b071699476fdee9ec   \n",
       "4  01be0ad4af7aeb1f6d2cc2b6b6d6d811  42e0d7167f04a4ff958c6442da0e6851   \n",
       "\n",
       "                            Person2                           Person3  \\\n",
       "0  0370a0d090da0d0edc6319f120187e0e  0370a0d090da0d0edc6319f120187e0e   \n",
       "1  99104de2626f67c1fa2ce70504970c3f  766802a8fda500d7945950de7398c9c6   \n",
       "2  0370a0d090da0d0edc6319f120187e0e  0370a0d090da0d0edc6319f120187e0e   \n",
       "3  42e0d7167f04a4ff958c6442da0e6851  0b1c631effab25d4af2d16fc123c3d31   \n",
       "4  0370a0d090da0d0edc6319f120187e0e  0370a0d090da0d0edc6319f120187e0e   \n",
       "\n",
       "   Team_id_type  Person1_type  Person2_type  Person3_type  \n",
       "0             0             0             0             0  \n",
       "1             2             4             5             4  \n",
       "2             2             4             0             0  \n",
       "3             2             5             4             1  \n",
       "4             2             4             0             0  "
      ]
     },
     "execution_count": 5,
     "metadata": {},
     "output_type": "execute_result"
    }
   ],
   "source": [
    "plays.head()"
   ]
  },
  {
   "cell_type": "code",
   "execution_count": 6,
   "metadata": {},
   "outputs": [],
   "source": [
    "#lower case column names\n",
    "\n",
    "events.columns = [x.lower() for x in events.columns]\n",
    "lineups.columns = [x.lower() for x in lineups.columns]\n",
    "plays.columns = [x.lower() for x in plays.columns]\n"
   ]
  },
  {
   "cell_type": "code",
   "execution_count": 7,
   "metadata": {},
   "outputs": [
    {
     "data": {
      "text/html": [
       "<div>\n",
       "<style>\n",
       "    .dataframe thead tr:only-child th {\n",
       "        text-align: right;\n",
       "    }\n",
       "\n",
       "    .dataframe thead th {\n",
       "        text-align: left;\n",
       "    }\n",
       "\n",
       "    .dataframe tbody tr th {\n",
       "        vertical-align: top;\n",
       "    }\n",
       "</style>\n",
       "<table border=\"1\" class=\"dataframe\">\n",
       "  <thead>\n",
       "    <tr style=\"text-align: right;\">\n",
       "      <th></th>\n",
       "      <th>game_id</th>\n",
       "      <th>event_num</th>\n",
       "      <th>event_msg_type</th>\n",
       "      <th>period</th>\n",
       "      <th>wc_time</th>\n",
       "      <th>pc_time</th>\n",
       "      <th>action_type</th>\n",
       "      <th>option1</th>\n",
       "      <th>option2</th>\n",
       "      <th>option3</th>\n",
       "      <th>team_id</th>\n",
       "      <th>person1</th>\n",
       "      <th>person2</th>\n",
       "      <th>person3</th>\n",
       "      <th>team_id_type</th>\n",
       "      <th>person1_type</th>\n",
       "      <th>person2_type</th>\n",
       "      <th>person3_type</th>\n",
       "    </tr>\n",
       "  </thead>\n",
       "  <tbody>\n",
       "    <tr>\n",
       "      <th>20607</th>\n",
       "      <td>a466c76e072fd634f6d4a8938fb63caa</td>\n",
       "      <td>2</td>\n",
       "      <td>12</td>\n",
       "      <td>1</td>\n",
       "      <td>330350</td>\n",
       "      <td>7200</td>\n",
       "      <td>0</td>\n",
       "      <td>0</td>\n",
       "      <td>0</td>\n",
       "      <td>0</td>\n",
       "      <td>1473d70e5646a26de3c52aa1abd85b1f</td>\n",
       "      <td>0370a0d090da0d0edc6319f120187e0e</td>\n",
       "      <td>0370a0d090da0d0edc6319f120187e0e</td>\n",
       "      <td>0370a0d090da0d0edc6319f120187e0e</td>\n",
       "      <td>0</td>\n",
       "      <td>0</td>\n",
       "      <td>0</td>\n",
       "      <td>0</td>\n",
       "    </tr>\n",
       "    <tr>\n",
       "      <th>20608</th>\n",
       "      <td>a466c76e072fd634f6d4a8938fb63caa</td>\n",
       "      <td>4</td>\n",
       "      <td>10</td>\n",
       "      <td>1</td>\n",
       "      <td>330350</td>\n",
       "      <td>7200</td>\n",
       "      <td>0</td>\n",
       "      <td>0</td>\n",
       "      <td>0</td>\n",
       "      <td>0</td>\n",
       "      <td>0a6fc39f34702cff144525dfd265f8fa</td>\n",
       "      <td>b265ffd84dbeef427136d140811e7d5f</td>\n",
       "      <td>90115ca1e9f545b291b18a7db8d2a700</td>\n",
       "      <td>95c8abc40fb4ecf4fa5627975450dc95</td>\n",
       "      <td>2</td>\n",
       "      <td>4</td>\n",
       "      <td>5</td>\n",
       "      <td>4</td>\n",
       "    </tr>\n",
       "    <tr>\n",
       "      <th>30761</th>\n",
       "      <td>d36de5306a05d0cdbd51a7294ac91359</td>\n",
       "      <td>2</td>\n",
       "      <td>12</td>\n",
       "      <td>1</td>\n",
       "      <td>330550</td>\n",
       "      <td>7200</td>\n",
       "      <td>0</td>\n",
       "      <td>0</td>\n",
       "      <td>0</td>\n",
       "      <td>0</td>\n",
       "      <td>1473d70e5646a26de3c52aa1abd85b1f</td>\n",
       "      <td>0370a0d090da0d0edc6319f120187e0e</td>\n",
       "      <td>0370a0d090da0d0edc6319f120187e0e</td>\n",
       "      <td>0370a0d090da0d0edc6319f120187e0e</td>\n",
       "      <td>0</td>\n",
       "      <td>0</td>\n",
       "      <td>0</td>\n",
       "      <td>0</td>\n",
       "    </tr>\n",
       "    <tr>\n",
       "      <th>31634</th>\n",
       "      <td>d522ea3836b8e1977ab10b3bfeb5dfd1</td>\n",
       "      <td>2</td>\n",
       "      <td>12</td>\n",
       "      <td>1</td>\n",
       "      <td>330550</td>\n",
       "      <td>7200</td>\n",
       "      <td>0</td>\n",
       "      <td>0</td>\n",
       "      <td>0</td>\n",
       "      <td>0</td>\n",
       "      <td>1473d70e5646a26de3c52aa1abd85b1f</td>\n",
       "      <td>0370a0d090da0d0edc6319f120187e0e</td>\n",
       "      <td>0370a0d090da0d0edc6319f120187e0e</td>\n",
       "      <td>0370a0d090da0d0edc6319f120187e0e</td>\n",
       "      <td>0</td>\n",
       "      <td>0</td>\n",
       "      <td>0</td>\n",
       "      <td>0</td>\n",
       "    </tr>\n",
       "    <tr>\n",
       "      <th>31635</th>\n",
       "      <td>d522ea3836b8e1977ab10b3bfeb5dfd1</td>\n",
       "      <td>4</td>\n",
       "      <td>10</td>\n",
       "      <td>1</td>\n",
       "      <td>330550</td>\n",
       "      <td>7200</td>\n",
       "      <td>0</td>\n",
       "      <td>0</td>\n",
       "      <td>0</td>\n",
       "      <td>0</td>\n",
       "      <td>8362dfecb7412f12a12713852d2ae566</td>\n",
       "      <td>ef8b068ab7ac9d387b256404acd24cd5</td>\n",
       "      <td>64e4b07f8d90902bcab1aa9e6b5d2ecf</td>\n",
       "      <td>95920e4bf5b6c15ba8dffbf959b38ba5</td>\n",
       "      <td>2</td>\n",
       "      <td>4</td>\n",
       "      <td>5</td>\n",
       "      <td>4</td>\n",
       "    </tr>\n",
       "  </tbody>\n",
       "</table>\n",
       "</div>"
      ],
      "text/plain": [
       "                                game_id  event_num  event_msg_type  period  \\\n",
       "20607  a466c76e072fd634f6d4a8938fb63caa          2              12       1   \n",
       "20608  a466c76e072fd634f6d4a8938fb63caa          4              10       1   \n",
       "30761  d36de5306a05d0cdbd51a7294ac91359          2              12       1   \n",
       "31634  d522ea3836b8e1977ab10b3bfeb5dfd1          2              12       1   \n",
       "31635  d522ea3836b8e1977ab10b3bfeb5dfd1          4              10       1   \n",
       "\n",
       "       wc_time  pc_time  action_type  option1  option2  option3  \\\n",
       "20607   330350     7200            0        0        0        0   \n",
       "20608   330350     7200            0        0        0        0   \n",
       "30761   330550     7200            0        0        0        0   \n",
       "31634   330550     7200            0        0        0        0   \n",
       "31635   330550     7200            0        0        0        0   \n",
       "\n",
       "                                team_id                           person1  \\\n",
       "20607  1473d70e5646a26de3c52aa1abd85b1f  0370a0d090da0d0edc6319f120187e0e   \n",
       "20608  0a6fc39f34702cff144525dfd265f8fa  b265ffd84dbeef427136d140811e7d5f   \n",
       "30761  1473d70e5646a26de3c52aa1abd85b1f  0370a0d090da0d0edc6319f120187e0e   \n",
       "31634  1473d70e5646a26de3c52aa1abd85b1f  0370a0d090da0d0edc6319f120187e0e   \n",
       "31635  8362dfecb7412f12a12713852d2ae566  ef8b068ab7ac9d387b256404acd24cd5   \n",
       "\n",
       "                                person2                           person3  \\\n",
       "20607  0370a0d090da0d0edc6319f120187e0e  0370a0d090da0d0edc6319f120187e0e   \n",
       "20608  90115ca1e9f545b291b18a7db8d2a700  95c8abc40fb4ecf4fa5627975450dc95   \n",
       "30761  0370a0d090da0d0edc6319f120187e0e  0370a0d090da0d0edc6319f120187e0e   \n",
       "31634  0370a0d090da0d0edc6319f120187e0e  0370a0d090da0d0edc6319f120187e0e   \n",
       "31635  64e4b07f8d90902bcab1aa9e6b5d2ecf  95920e4bf5b6c15ba8dffbf959b38ba5   \n",
       "\n",
       "       team_id_type  person1_type  person2_type  person3_type  \n",
       "20607             0             0             0             0  \n",
       "20608             2             4             5             4  \n",
       "30761             0             0             0             0  \n",
       "31634             0             0             0             0  \n",
       "31635             2             4             5             4  "
      ]
     },
     "execution_count": 7,
     "metadata": {},
     "output_type": "execute_result"
    }
   ],
   "source": [
    "# sort plays in df as instructions suggest\n",
    "plays = plays.sort_values(by=['period', 'pc_time', 'wc_time', 'event_num'], ascending = [True, False, True, True])\n",
    "plays.head()"
   ]
  },
  {
   "cell_type": "markdown",
   "metadata": {},
   "source": [
    "### Explore events data"
   ]
  },
  {
   "cell_type": "code",
   "execution_count": 8,
   "metadata": {},
   "outputs": [
    {
     "data": {
      "text/plain": [
       "(299, 4)"
      ]
     },
     "execution_count": 8,
     "metadata": {},
     "output_type": "execute_result"
    }
   ],
   "source": [
    "events.shape"
   ]
  },
  {
   "cell_type": "code",
   "execution_count": 9,
   "metadata": {},
   "outputs": [
    {
     "data": {
      "text/plain": [
       "event_msg_type                0\n",
       "action_type                   0\n",
       "event_msg_type_description    0\n",
       "action_type_description       5\n",
       "dtype: int64"
      ]
     },
     "execution_count": 9,
     "metadata": {},
     "output_type": "execute_result"
    }
   ],
   "source": [
    "events.isnull().sum()"
   ]
  },
  {
   "cell_type": "code",
   "execution_count": 10,
   "metadata": {},
   "outputs": [
    {
     "data": {
      "text/plain": [
       "Index(['event_msg_type', 'action_type', 'event_msg_type_description',\n",
       "       'action_type_description'],\n",
       "      dtype='object')"
      ]
     },
     "execution_count": 10,
     "metadata": {},
     "output_type": "execute_result"
    }
   ],
   "source": [
    "events.columns"
   ]
  },
  {
   "cell_type": "code",
   "execution_count": 11,
   "metadata": {},
   "outputs": [
    {
     "data": {
      "text/plain": [
       "array([ 1,  2,  3,  4,  5,  6,  7,  8,  9, 10, 11, 12, 13, 14, 15, 16, 18,\n",
       "       20])"
      ]
     },
     "execution_count": 11,
     "metadata": {},
     "output_type": "execute_result"
    }
   ],
   "source": [
    "events.event_msg_type.unique()"
   ]
  },
  {
   "cell_type": "code",
   "execution_count": 12,
   "metadata": {},
   "outputs": [
    {
     "data": {
      "text/plain": [
       "array([  0,   1,   2,   3,   4,   5,   6,   7,   8,   9,  40,  41,  42,\n",
       "        43,  44,  45,  46,  47,  48,  49,  50,  51,  52,  53,  54,  55,\n",
       "        56,  57,  58,  59,  60,  61,  62,  63,  64,  65,  66,  67,  71,\n",
       "        72,  73,  74,  75,  76,  77,  78,  79,  80,  81,  82,  83,  84,\n",
       "        85,  86,  87,  88,  89,  90,  91,  92,  93,  94,  95,  96,  97,\n",
       "        98,  99, 100, 101, 102, 103, 104, 105, 106, 107, 108, 109, 110,\n",
       "        10,  11,  12,  13,  14,  15,  16,  17,  18,  19,  20,  21,  22,\n",
       "        25,  26,  27,  28,  29,  23,  24,  31,  32,  33,  34,  35,  36,\n",
       "        37,  38,  39,  30])"
      ]
     },
     "execution_count": 12,
     "metadata": {},
     "output_type": "execute_result"
    }
   ],
   "source": [
    "events.action_type.unique()"
   ]
  },
  {
   "cell_type": "code",
   "execution_count": 13,
   "metadata": {},
   "outputs": [
    {
     "data": {
      "text/plain": [
       "array(['Made Shot                               ',\n",
       "       'Missed Shot                             ',\n",
       "       'No Shot                                 ',\n",
       "       'Free Throw                              ',\n",
       "       'Rebound                                 ',\n",
       "       'Turnover                                ',\n",
       "       'Foul                                    ',\n",
       "       'Violation                               ',\n",
       "       'Substitution                            ',\n",
       "       'Timeout                                 ',\n",
       "       'Jump Ball                               ',\n",
       "       'Ejection                                ',\n",
       "       'Start Period                            ',\n",
       "       'End Period                              ',\n",
       "       'Validation                              ',\n",
       "       'Memo                                    ',\n",
       "       'Flash Stats                             ',\n",
       "       'Supplemental                            ',\n",
       "       'Instant Replay                          ',\n",
       "       'Final Box Printed                       ',\n",
       "       'Stoppage                                '], dtype=object)"
      ]
     },
     "execution_count": 13,
     "metadata": {},
     "output_type": "execute_result"
    }
   ],
   "source": [
    "events.event_msg_type_description.unique()"
   ]
  },
  {
   "cell_type": "code",
   "execution_count": 14,
   "metadata": {},
   "outputs": [
    {
     "data": {
      "text/plain": [
       "array(['Made Shot', 'Missed Shot', 'No Shot', 'Free Throw', 'Rebound',\n",
       "       'Turnover', 'Foul', 'Violation', 'Substitution', 'Timeout',\n",
       "       'Jump Ball', 'Ejection', 'Start Period', 'End Period', 'Validation',\n",
       "       'Memo', 'Flash Stats', 'Supplemental', 'Instant Replay',\n",
       "       'Final Box Printed', 'Stoppage'], dtype=object)"
      ]
     },
     "execution_count": 14,
     "metadata": {},
     "output_type": "execute_result"
    }
   ],
   "source": [
    "# strip out white space\n",
    "\n",
    "events['event_msg_type_description'] = events.event_msg_type_description.str.strip()\n",
    "events.event_msg_type_description.unique()"
   ]
  },
  {
   "cell_type": "code",
   "execution_count": 15,
   "metadata": {},
   "outputs": [
    {
     "data": {
      "text/plain": [
       "array(['No Shot', 'Jump Shot', 'Running Jump Shot', 'Hook Shot',\n",
       "       'Tip Shot', 'Layup Shot', 'Driving Layup Shot', 'Dunk Shot',\n",
       "       'Slam Dunk Shot', 'Driving Dunk Shot', 'Running Layup Shot',\n",
       "       'Alley Oop Layup shot', 'Reverse Layup Shot',\n",
       "       'Turnaround Jump Shot', 'Running Dunk Shot', 'Reverse Dunk Shot',\n",
       "       'Alley Oop Dunk Shot', 'Running Tip Shot', 'Running Hook Shot',\n",
       "       'Driving Hook Shot', 'Turnaround Hook Shot', 'Finger Roll Shot',\n",
       "       'Running Finger Roll Shot', 'Driving Finger Roll Shot',\n",
       "       'Turnaround Finger Roll Shot', 'Fadeaway Jump Shot',\n",
       "       'Follow Up Dunk Shot', 'Jump Hook Shot', 'Jump Bank Shot',\n",
       "       'Hook Bank Shot', 'Finger Roll Layup Shot', 'Putback Layup Shot',\n",
       "       'Driving Reverse Layup Shot', 'Running Reverse Layup Shot',\n",
       "       'Driving Finger Roll Layup Shot', 'Running Finger Roll Layup Shot',\n",
       "       'Driving Jump shot', 'Floating Jump shot', 'Pullup Jump shot',\n",
       "       'Step Back Jump shot', 'Pullup Bank shot', 'Driving Bank shot',\n",
       "       'Fadeaway Bank shot', 'Running Bank shot', 'Turnaround Bank shot',\n",
       "       'Turnaround Fadeaway shot', 'Putback Dunk Shot',\n",
       "       'Driving Slam Dunk Shot', 'Reverse Slam Dunk Shot',\n",
       "       'Running Slam Dunk Shot', 'Putback Reverse Dunk Shot',\n",
       "       'Putback Slam Dunk Shot', 'Driving Bank Hook Shot',\n",
       "       'Jump Bank Hook Shot', 'Running Bank Hook Shot',\n",
       "       'Turnaround Bank Hook Shot', 'Tip Layup Shot', 'Cutting Layup Shot',\n",
       "       'Cutting Finger Roll Layup Shot', 'Running Alley Oop Layup Shot',\n",
       "       'Driving Floating Jump Shot', 'Driving Floating Bank Jump Shot',\n",
       "       'Running Pull-Up Jump Shot', 'Step Back Bank Jump Shot',\n",
       "       'Turnaround Fadeaway Bank Jump Shot', 'Running Alley Oop Dunk Shot',\n",
       "       'Tip Dunk Shot', 'Cutting Dunk Shot', 'Driving Reverse Dunk Shot',\n",
       "       'Running Reverse Dunk Shot', nan, 'Free Throw 1 of 1',\n",
       "       'Free Throw 1 of 2', 'Free Throw 2 of 2', 'Free Throw 1 of 3',\n",
       "       'Free Throw 2 of 3', 'Free Throw 3 of 3', 'Free Throw Technical',\n",
       "       'Free Throw Clear Path', 'Free Throw Flagrant 1 of 2',\n",
       "       'Free Throw Flagrant 2 of 2', 'Free Throw Flagrant 1 of 1',\n",
       "       'Free Throw Technical 1 of 2', 'Free Throw Technical 2 of 2',\n",
       "       'Free Throw Clear Path 1 of 2', 'Free Throw Clear Path 2 of 2',\n",
       "       'Free Throw Flagrant 1 of 3', 'Free Throw Flagrant 2 of 3',\n",
       "       'Free Throw Flagrant 3 of 3', 'Unknown', 'Normal Rebound',\n",
       "       'Dead Ball Rebound', 'No Turnover', 'Bad Pass', 'Lost Ball',\n",
       "       'Out Of Bounds', 'Traveling', 'Foul', 'Double Dribble',\n",
       "       'Discontinue Dribble', '3 Second Violation', '5 Second Violation',\n",
       "       '8 Second Violation', 'Shot Clock Turnover', 'Inbound Turnover',\n",
       "       'Backcourt Turnover', 'Illegal Pick', 'Offensive Goaltending',\n",
       "       'Isolation Violation', 'Lane Violation', 'Jump Ball Violation',\n",
       "       'Kicked Ball Violation', 'Illegal Assist Turnover',\n",
       "       'Palming Turnover', 'Post Up Turnover', 'Double Personal Turnover',\n",
       "       '10 Second Violaton', 'Stolen Pass Turnover',\n",
       "       'Opposite Basket Turnover', 'Punched Ball Turnover',\n",
       "       'Swinging Elbows Turnover', 'Basket from Below Turnover',\n",
       "       'Illegal Screen Turnover', 'Offensive Foul Turnover',\n",
       "       '5 Second Inbound Turnover', 'Step Out of Bounds Turnover',\n",
       "       'Out of Bounds Lost Ball Turnover', 'Poss Lost Ball Turnover',\n",
       "       'Excess Timeout Turnover',\n",
       "       'Player Out of Bounds Violation Turnover',\n",
       "       'Too Many Players Turnover', 'Out of Bounds - Bad Pass Turnover',\n",
       "       'No Foul', 'Personal', 'Shooting', 'Loose Ball', 'Offensive',\n",
       "       'Inbound', 'Away From Play', 'Elbow', 'Punching', 'Clear Path',\n",
       "       'Double Personal', 'Technical', 'Non-Unsportsmanlike Technical',\n",
       "       'Hanging Technical', 'Flagrant Type 1', 'Flagrant Type 2',\n",
       "       'Double Technical', 'Defense 3 Second', 'Delay Technical',\n",
       "       'Taunting Technical', 'Player Control', 'Indirect Technical',\n",
       "       'Excess Timeout Technical', 'Offensive Charge', 'Personal Block',\n",
       "       'Personal Take', 'Shooting Block', 'Too Many Players Technical',\n",
       "       'No Violation', 'Delay Of Game', 'Defensive Goaltending', 'Lane',\n",
       "       'Jump Ball', 'Kicked Ball', 'Double Lane', 'Illegal Defense', ' ',\n",
       "       'No Timeout', 'Regular', 'Short', 'Official TV', 'Official',\n",
       "       'Advance', 'Reset', 'No Ejection', 'Second Technical',\n",
       "       'Second Flagrant Type 1', 'First Flagrant Type 2', 'Other',\n",
       "       'Support Ruling', 'Overturn Ruling', 'Altercation Ruling',\n",
       "       'No Stoppage', 'Blood Rule', 'Injury', 'Out-of-Bounds',\n",
       "       'Court Cleanup', 'Equipment Malfunction',\n",
       "       'Other                                   '], dtype=object)"
      ]
     },
     "execution_count": 15,
     "metadata": {},
     "output_type": "execute_result"
    }
   ],
   "source": [
    "events.action_type_description.unique()"
   ]
  },
  {
   "cell_type": "markdown",
   "metadata": {},
   "source": [
    "### Explore lineup data"
   ]
  },
  {
   "cell_type": "code",
   "execution_count": 16,
   "metadata": {},
   "outputs": [
    {
     "data": {
      "text/plain": [
       "(5780, 5)"
      ]
     },
     "execution_count": 16,
     "metadata": {},
     "output_type": "execute_result"
    }
   ],
   "source": [
    "lineups.shape"
   ]
  },
  {
   "cell_type": "code",
   "execution_count": 17,
   "metadata": {},
   "outputs": [
    {
     "data": {
      "text/plain": [
       "game_id      0\n",
       "period       0\n",
       "person_id    0\n",
       "team_id      0\n",
       "status       0\n",
       "dtype: int64"
      ]
     },
     "execution_count": 17,
     "metadata": {},
     "output_type": "execute_result"
    }
   ],
   "source": [
    "lineups.isnull().sum()"
   ]
  },
  {
   "cell_type": "code",
   "execution_count": 18,
   "metadata": {},
   "outputs": [
    {
     "data": {
      "text/plain": [
       "Index(['game_id', 'period', 'person_id', 'team_id', 'status'], dtype='object')"
      ]
     },
     "execution_count": 18,
     "metadata": {},
     "output_type": "execute_result"
    }
   ],
   "source": [
    "lineups.columns"
   ]
  },
  {
   "cell_type": "code",
   "execution_count": 19,
   "metadata": {},
   "outputs": [
    {
     "data": {
      "text/plain": [
       "array([0, 1, 2, 3, 4, 5])"
      ]
     },
     "execution_count": 19,
     "metadata": {},
     "output_type": "execute_result"
    }
   ],
   "source": [
    "lineups.period.unique()"
   ]
  },
  {
   "cell_type": "markdown",
   "metadata": {},
   "source": [
    "Not sure what period 0 means. I'd think a 1 means start of the 1st quarter and so on."
   ]
  },
  {
   "cell_type": "markdown",
   "metadata": {},
   "source": [
    "### Explore plays data"
   ]
  },
  {
   "cell_type": "code",
   "execution_count": 20,
   "metadata": {},
   "outputs": [
    {
     "data": {
      "text/plain": [
       "(37889, 18)"
      ]
     },
     "execution_count": 20,
     "metadata": {},
     "output_type": "execute_result"
    }
   ],
   "source": [
    "plays.shape"
   ]
  },
  {
   "cell_type": "code",
   "execution_count": 21,
   "metadata": {},
   "outputs": [
    {
     "data": {
      "text/plain": [
       "game_id           0\n",
       "event_num         0\n",
       "event_msg_type    0\n",
       "period            0\n",
       "wc_time           0\n",
       "pc_time           0\n",
       "action_type       0\n",
       "option1           0\n",
       "option2           0\n",
       "option3           0\n",
       "team_id           0\n",
       "person1           0\n",
       "person2           0\n",
       "person3           0\n",
       "team_id_type      0\n",
       "person1_type      0\n",
       "person2_type      0\n",
       "person3_type      0\n",
       "dtype: int64"
      ]
     },
     "execution_count": 21,
     "metadata": {},
     "output_type": "execute_result"
    }
   ],
   "source": [
    "plays.isnull().sum()"
   ]
  },
  {
   "cell_type": "code",
   "execution_count": 22,
   "metadata": {},
   "outputs": [
    {
     "data": {
      "text/plain": [
       "array([0, 2, 3, 1])"
      ]
     },
     "execution_count": 22,
     "metadata": {},
     "output_type": "execute_result"
    }
   ],
   "source": [
    "plays.option1.unique()"
   ]
  },
  {
   "cell_type": "code",
   "execution_count": 23,
   "metadata": {},
   "outputs": [
    {
     "data": {
      "text/plain": [
       "array([0, 1])"
      ]
     },
     "execution_count": 23,
     "metadata": {},
     "output_type": "execute_result"
    }
   ],
   "source": [
    "plays.option2.unique()"
   ]
  },
  {
   "cell_type": "code",
   "execution_count": 24,
   "metadata": {},
   "outputs": [
    {
     "data": {
      "text/plain": [
       "array([0, 1, 2, 3])"
      ]
     },
     "execution_count": 24,
     "metadata": {},
     "output_type": "execute_result"
    }
   ],
   "source": [
    "plays.option3.unique()"
   ]
  },
  {
   "cell_type": "code",
   "execution_count": 25,
   "metadata": {},
   "outputs": [
    {
     "data": {
      "text/plain": [
       "array([0, 2, 3])"
      ]
     },
     "execution_count": 25,
     "metadata": {},
     "output_type": "execute_result"
    }
   ],
   "source": [
    "plays.team_id_type.unique()"
   ]
  },
  {
   "cell_type": "code",
   "execution_count": 26,
   "metadata": {},
   "outputs": [
    {
     "data": {
      "text/plain": [
       "array([0, 4, 5, 2, 3, 7, 6])"
      ]
     },
     "execution_count": 26,
     "metadata": {},
     "output_type": "execute_result"
    }
   ],
   "source": [
    "plays.person1_type.unique()"
   ]
  },
  {
   "cell_type": "code",
   "execution_count": 27,
   "metadata": {},
   "outputs": [
    {
     "data": {
      "text/plain": [
       "array([0, 5, 4])"
      ]
     },
     "execution_count": 27,
     "metadata": {},
     "output_type": "execute_result"
    }
   ],
   "source": [
    "plays.person2_type.unique()"
   ]
  },
  {
   "cell_type": "code",
   "execution_count": 28,
   "metadata": {},
   "outputs": [
    {
     "data": {
      "text/plain": [
       "array([0, 4, 5, 1, 2, 3])"
      ]
     },
     "execution_count": 28,
     "metadata": {},
     "output_type": "execute_result"
    }
   ],
   "source": [
    "plays.person3_type.unique()"
   ]
  },
  {
   "cell_type": "markdown",
   "metadata": {},
   "source": [
    "It's unclear what some of these columns mean and they seem irrelvant to calculating off/def rating for each player. Columns in question:\n",
    "- wc_time\n",
    "- option 3\n",
    "- person3\n",
    "- team_id\n",
    "- team_id_type\n",
    "- person1_type\n",
    "- person2_type\n",
    "- person3_type"
   ]
  }
 ],
 "metadata": {
  "kernelspec": {
   "display_name": "Python 3",
   "language": "python",
   "name": "python3"
  },
  "language_info": {
   "codemirror_mode": {
    "name": "ipython",
    "version": 3
   },
   "file_extension": ".py",
   "mimetype": "text/x-python",
   "name": "python",
   "nbconvert_exporter": "python",
   "pygments_lexer": "ipython3",
   "version": "3.6.8"
  }
 },
 "nbformat": 4,
 "nbformat_minor": 2
}
